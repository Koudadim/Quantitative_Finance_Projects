{
 "cells": [
  {
   "cell_type": "code",
   "execution_count": null,
   "id": "6d431542",
   "metadata": {},
   "outputs": [],
   "source": []
  },
  {
   "cell_type": "markdown",
   "id": "3fcb811a",
   "metadata": {},
   "source": [
    "The semi-analytical formula for a Heston call involves a complex integral :\n",
    "\n",
    "\n",
    "$$\\begin{aligned}  C=\\frac{1}{2}\\left(X_0-K e^{-r T}\\right)+\\frac{1}{\\pi} \\Re \\int_0^{\\infty}\\left(e^{r T} \\frac{\\phi(u-\\mathbf{i})}{\\mathbf{i} u K^{\\mathbf{i} u}}-K \\frac{\\phi(u)}{\\mathbf{i} u K^{\\mathbf{i} u}}\\right) \\mathrm{d} u \\end{aligned}$$\n",
    "With: \n",
    "* $\\phi(u)=e^{r T} X_0^{\\mathbf{i} u}\\left(\\frac{1-g e^{-d T}}{1-g}\\right)^{-2 \\frac{\\theta \\kappa}{\\lambda^2}} \\exp \\left(\\frac{\\theta \\kappa T}{\\lambda^2}(\\kappa-\\rho \\lambda \\mathbf{i} u-d)+\\frac{V_0}{\\lambda^2}(\\kappa-\\rho \\lambda \\mathbf{i} u+d) \\frac{1-e^{d T}}{1-g e^{d T}}\\right), $\n",
    "* $d=\\sqrt{(\\rho \\lambda u \\mathbf{i}-\\kappa)^2+\\lambda^2\\left(\\mathbf{i} u+u^2\\right)}, $\n",
    "* $g=\\frac{\\kappa-\\rho \\lambda \\mathbf{i} u-d}{\\kappa-\\rho \\lambda \\mathbf{i} u+d} .$\n",
    "\n",
    "The complex integral requires a careful discretization."
   ]
  },
  {
   "cell_type": "code",
   "execution_count": null,
   "id": "99f1b94f",
   "metadata": {},
   "outputs": [],
   "source": []
  },
  {
   "cell_type": "code",
   "execution_count": 2,
   "id": "619157c4",
   "metadata": {},
   "outputs": [],
   "source": [
    "import numpy as np\n",
    "from scipy.optimize import broyden1"
   ]
  },
  {
   "cell_type": "code",
   "execution_count": 14,
   "id": "570669f5",
   "metadata": {},
   "outputs": [],
   "source": [
    "# Initiale values\n",
    "X0 = 95\n",
    "V0 = 0.1\n",
    "r = 0.03\n",
    "kappa = 1.5768\n",
    "theta=0.0398\n",
    "lambd=0.575\n",
    "rho=-0.5711"
   ]
  },
  {
   "cell_type": "code",
   "execution_count": 47,
   "id": "1571f341",
   "metadata": {},
   "outputs": [],
   "source": [
    "def HestonModel(kappa, theta, lambd, T, K, X0, V0, rho, r):\n",
    "    I = complex(0, 1) # define a imaginary unit\n",
    "    integral, umax, N = 0, 1000, 10000 # initialize the call price C and set numerical integration limits\n",
    "    du = umax/N # define the stepsize for numerical integration\n",
    "    \n",
    "    # Constants for characteristic function\n",
    "    aa = theta * kappa * T / lambd**2\n",
    "    bb = -2 * theta * kappa / lambd**2\n",
    "    \n",
    "    for i in range(1, N):\n",
    "        u2 = i * du # define itegration variable u2\n",
    "        u1 = complex(u2, -1) # define shifted integration variable u1\n",
    "        \n",
    "        # Compute a1 and a2 based on the model parameters\n",
    "        a1, a2 = rho * lambd * u1 * I, rho * lambd * u2 * I\n",
    "        \n",
    "        # Compute characteristic function terms\n",
    "        d1 = np.sqrt((a1 - kappa)**2 + lambd**2 * (u1 * I + u1**2))\n",
    "        d2 = np.sqrt((a2 - kappa)**2 + lambd**2 * (u2 * I + u2**2))\n",
    "        \n",
    "        # Compute g functions\n",
    "        \n",
    "        ## Avoid division by zero and numerical overflows\n",
    "        dg1, dg2 = kappa - a1 + d1, kappa - a2 + d2\n",
    "        \n",
    "        g1 = np.where(dg1!=0, (kappa - a1 - d1) / dg1, 0) ## If denominator is zero, set g1 to 0\n",
    "        g2 = np.where(dg2!=0, (kappa - a2 - d2) / dg2, 0)\n",
    "        \n",
    "        # Compute the terms of the characteristic functions\n",
    "        dt1 = np.exp(-d1 * T)\n",
    "        denom1 = np.where((1 - g1)!=0, (1 - g1 * dt1) / (1 - g1), 1)\n",
    "        term11 = np.exp(r * T + (u1 * I) * np.log(X0) + bb * np.log(denom1))\n",
    "        dt1 = np.exp(-d1 * T)\n",
    "        frac1 = np.where((1 - g1 * dt1)!=0, (1 - dt1) / (1 - g1 * dt1), 1)\n",
    "        term21 = np.exp(aa * (kappa - a1 - d1) + (V0 / lambd**2) * (kappa -a1 + d1) * frac1)\n",
    "        \n",
    "        dt2 = np.exp(-d2 * T)\n",
    "        denom2 = np.where((1 - g2)!=0, (1 - g2 * dt2) / (1 - g2), 1)\n",
    "        term21 = np.exp(r * T + (u2 * I) * np.log(X0) + bb * np.log(denom2))\n",
    "        dt2 = np.exp(-d2 * T)\n",
    "        frac2 = np.where((1 - g2 * dt2)!=0, (1 - dt2) / (1 - g2 * dt2), 1)\n",
    "        term22 = np.exp(aa * (kappa - a2 - d2) + (V0 / lambd**2) * (kappa -a2 + d2) * frac2)\n",
    "        \n",
    "        # Compute characteristic functions ph1 and phi2\n",
    "        phi1 = term11 * term21\n",
    "        phi2 = term21 * term22\n",
    "        \n",
    "        # Compute the integral\n",
    "        d = u2*I * K**(u2*I)\n",
    "        integral += (np.exp(r*T) * phi1 - K * phi2) * du / d\n",
    "    \n",
    "    # Compute the final value\n",
    "    C = (X0 - K * np.exp(-r * T)) / 2 + np.real(integral) / np.pi\n",
    "    \n",
    "    return C     "
   ]
  },
  {
   "cell_type": "code",
   "execution_count": 48,
   "id": "b980479b",
   "metadata": {},
   "outputs": [
    {
     "name": "stdout",
     "output_type": "stream",
     "text": [
      "call =  -80.47901959588134  put =  -81.30256623745647\n"
     ]
    }
   ],
   "source": [
    "# Example of usage of heston()\n",
    "T,K=2,100\n",
    "call = HestonModel(kappa, theta, lambd, T, K, X0, V0, rho, r)\n",
    "print(\"call = \",call, \" put = \", call-X0+K*np.exp(-r*T))"
   ]
  },
  {
   "cell_type": "code",
   "execution_count": 31,
   "id": "9183373b",
   "metadata": {},
   "outputs": [],
   "source": [
    "import numpy as np\n",
    "\n",
    "def HestonModel0(kappa, theta, lambd, T, K, X0, V0, rho, r):\n",
    "    I = complex(0, 1)  # Define imaginary unit\n",
    "    integral, umax, N = 0, 1000, 10000  # Initialize integral and set numerical integration limits\n",
    "    du = umax / N  # Step size for numerical integration\n",
    "    \n",
    "    # Constants for characteristic function\n",
    "    aa = theta * kappa * T / lambd**2\n",
    "    bb = -2 * theta * kappa / lambd**2\n",
    "    \n",
    "    for i in range(1, N):\n",
    "        u2 = i * du  # Define integration variable u2\n",
    "        u1 = complex(u2, -1)  # Define shifted integration variable u1\n",
    "        \n",
    "        # Compute a1 and a2 based on model parameters\n",
    "        a1, a2 = rho * lambd * u1 * I, rho * lambd * u2 * I\n",
    "        \n",
    "        # Compute characteristic function terms\n",
    "        d1 = np.sqrt((a1 - kappa)**2 + lambd**2 * (u1 * I + u1**2))\n",
    "        d2 = np.sqrt((a2 - kappa)**2 + lambd**2 * (u2 * I + u2**2))\n",
    "        \n",
    "        # Avoid division by zero and numerical overflows\n",
    "        g1_denom = kappa - a1 + d1\n",
    "        g2_denom = kappa - a2 + d2\n",
    "        \n",
    "        g1 = np.where(g1_denom != 0, (kappa - a1 - d1) / g1_denom, 0)  # If denominator is zero, set g1 to 0\n",
    "        g2 = np.where(g2_denom != 0, (kappa - a2 - d2) / g2_denom, 0)\n",
    "        \n",
    "        # Compute exponential terms\n",
    "        dt1 = np.exp(-d1 * T)\n",
    "        dt2 = np.exp(-d2 * T)\n",
    "        \n",
    "        denom1 = np.where((1 - g1) != 0, (1 - g1 * dt1) / (1 - g1), 1)\n",
    "        term11 = np.exp(r * T + (u1 * I) * np.log(X0) + bb * np.log(denom1))\n",
    "        term21 = np.exp(aa * (kappa - a1 - d1) + (V0 / lambd**2) * (kappa - a1 + d1) * (1 - dt1) / (1 - g1 * dt1))\n",
    "        \n",
    "        denom2 = np.where((1 - g2) != 0, (1 - g2 * dt2) / (1 - g2), 1)\n",
    "        term12 = np.exp(r * T + (u2 * I) * np.log(X0) + bb * np.log(denom2))\n",
    "        term22 = np.exp(aa * (kappa - a2 - d2) + (V0 / lambd**2) * (kappa - a2 + d2) * (1 - dt2) / (1 - g2 * dt2))\n",
    "        \n",
    "        # Compute characteristic functions phi1 and phi2\n",
    "        phi1 = term11 * term21\n",
    "        phi2 = term12 * term22\n",
    "        \n",
    "        # Compute the integral\n",
    "        d = u2 * I * K**(u2 * I)\n",
    "        integral += (np.exp(r * T) * phi1 - K * phi2) * du / d\n",
    "    \n",
    "    # Compute the final value\n",
    "    C = (X0 - K * np.exp(-r * T)) / 2 + np.real(integral) / np.pi\n",
    "    \n",
    "    return C\n"
   ]
  },
  {
   "cell_type": "code",
   "execution_count": 33,
   "id": "554f83f6",
   "metadata": {},
   "outputs": [
    {
     "name": "stdout",
     "output_type": "stream",
     "text": [
      "call =  28.63557761398665  put =  27.81203097241152\n"
     ]
    }
   ],
   "source": [
    "# Example of usage of heston()\n",
    "T,K=2,100\n",
    "call = HestonModel0(kappa, theta, lambd, T, K, X0, V0, rho, r)\n",
    "print(\"call = \",call, \" put = \", call-X0+K*np.exp(-r*T))"
   ]
  },
  {
   "cell_type": "code",
   "execution_count": 49,
   "id": "1281aece",
   "metadata": {},
   "outputs": [
    {
     "name": "stderr",
     "output_type": "stream",
     "text": [
      "C:\\Users\\asus\\AppData\\Local\\Temp\\ipykernel_14772\\1623619327.py:48: RuntimeWarning: overflow encountered in scalar multiply\n",
      "  integral += (np.exp(r * T) * phi1 - K * phi2) * du / d\n",
      "C:\\Users\\asus\\AppData\\Local\\Temp\\ipykernel_14772\\1623619327.py:48: RuntimeWarning: invalid value encountered in scalar multiply\n",
      "  integral += (np.exp(r * T) * phi1 - K * phi2) * du / d\n",
      "C:\\Users\\asus\\AppData\\Local\\Temp\\ipykernel_14772\\1623619327.py:48: RuntimeWarning: overflow encountered in scalar subtract\n",
      "  integral += (np.exp(r * T) * phi1 - K * phi2) * du / d\n",
      "C:\\Users\\asus\\AppData\\Local\\Temp\\ipykernel_14772\\1623619327.py:43: RuntimeWarning: overflow encountered in scalar multiply\n",
      "  phi1 = term11 * term21\n",
      "C:\\Users\\asus\\AppData\\Local\\Temp\\ipykernel_14772\\1623619327.py:48: RuntimeWarning: invalid value encountered in scalar subtract\n",
      "  integral += (np.exp(r * T) * phi1 - K * phi2) * du / d\n",
      "C:\\Users\\asus\\AppData\\Local\\Temp\\ipykernel_14772\\1623619327.py:43: RuntimeWarning: invalid value encountered in scalar multiply\n",
      "  phi1 = term11 * term21\n",
      "C:\\Users\\asus\\AppData\\Local\\Temp\\ipykernel_14772\\1623619327.py:40: RuntimeWarning: overflow encountered in exp\n",
      "  term22 = np.exp(aa * (kappa - a2 - d2) + (V0 / lambd**2) * (kappa - a2 + d2) * (1 - dt2) / (1 - g2 * dt2))\n",
      "C:\\Users\\asus\\AppData\\Local\\Temp\\ipykernel_14772\\1623619327.py:44: RuntimeWarning: invalid value encountered in scalar multiply\n",
      "  phi2 = term12 * term22\n",
      "C:\\Users\\asus\\AppData\\Local\\Temp\\ipykernel_14772\\1623619327.py:36: RuntimeWarning: overflow encountered in exp\n",
      "  term21 = np.exp(aa * (kappa - a1 - d1) + (V0 / lambd**2) * (kappa - a1 + d1) * (1 - dt1) / (1 - g1 * dt1))\n",
      "C:\\Users\\asus\\anaconda3\\lib\\site-packages\\scipy\\optimize\\_nonlin.py:911: RuntimeWarning: invalid value encountered in divide\n",
      "  d = v / vdot(df, v)\n"
     ]
    },
    {
     "ename": "KeyboardInterrupt",
     "evalue": "",
     "output_type": "error",
     "traceback": [
      "\u001b[1;31m---------------------------------------------------------------------------\u001b[0m",
      "\u001b[1;31mKeyboardInterrupt\u001b[0m                         Traceback (most recent call last)",
      "\u001b[1;32m~\\AppData\\Local\\Temp\\ipykernel_14772\\654840722.py\u001b[0m in \u001b[0;36m<module>\u001b[1;34m\u001b[0m\n\u001b[0;32m      8\u001b[0m             \u001b[1;33m(\u001b[0m\u001b[0mprice2\u001b[0m \u001b[1;33m-\u001b[0m \u001b[0mHestonModel0\u001b[0m\u001b[1;33m(\u001b[0m\u001b[0mx\u001b[0m\u001b[1;33m[\u001b[0m\u001b[1;36m0\u001b[0m\u001b[1;33m]\u001b[0m\u001b[1;33m,\u001b[0m\u001b[0mx\u001b[0m\u001b[1;33m[\u001b[0m\u001b[1;36m1\u001b[0m\u001b[1;33m]\u001b[0m\u001b[1;33m,\u001b[0m\u001b[0mx\u001b[0m\u001b[1;33m[\u001b[0m\u001b[1;36m2\u001b[0m\u001b[1;33m]\u001b[0m\u001b[1;33m,\u001b[0m\u001b[0mT\u001b[0m\u001b[1;33m,\u001b[0m\u001b[1;36m105\u001b[0m\u001b[1;33m,\u001b[0m \u001b[0mX0\u001b[0m\u001b[1;33m,\u001b[0m \u001b[0mV0\u001b[0m\u001b[1;33m,\u001b[0m \u001b[0mrho\u001b[0m\u001b[1;33m,\u001b[0m \u001b[0mr\u001b[0m\u001b[1;33m)\u001b[0m\u001b[1;33m)\u001b[0m\u001b[1;33m,\u001b[0m\u001b[0;31m \u001b[0m\u001b[0;31m\\\u001b[0m\u001b[1;33m\u001b[0m\u001b[1;33m\u001b[0m\u001b[0m\n\u001b[0;32m      9\u001b[0m             (price3 - HestonModel0(x[0],x[1],x[2],T,110, X0, V0, rho, r))]\n\u001b[1;32m---> 10\u001b[1;33m \u001b[0mx\u001b[0m \u001b[1;33m=\u001b[0m \u001b[0mbroyden1\u001b[0m\u001b[1;33m(\u001b[0m\u001b[0mF\u001b[0m\u001b[1;33m,\u001b[0m \u001b[1;33m[\u001b[0m\u001b[1;36m1.4\u001b[0m\u001b[1;33m,\u001b[0m\u001b[1;36m0.03\u001b[0m\u001b[1;33m,\u001b[0m\u001b[1;36m0.5\u001b[0m\u001b[1;33m]\u001b[0m\u001b[1;33m,\u001b[0m \u001b[0mf_tol\u001b[0m\u001b[1;33m=\u001b[0m\u001b[1;36m1e-14\u001b[0m\u001b[1;33m)\u001b[0m\u001b[1;33m\u001b[0m\u001b[1;33m\u001b[0m\u001b[0m\n\u001b[0m\u001b[0;32m     11\u001b[0m \u001b[0mprint\u001b[0m\u001b[1;33m(\u001b[0m\u001b[1;34m\"[kappa,theta,lambda] =\"\u001b[0m\u001b[1;33m,\u001b[0m\u001b[0mx\u001b[0m\u001b[1;33m)\u001b[0m\u001b[1;33m\u001b[0m\u001b[1;33m\u001b[0m\u001b[0m\n",
      "\u001b[1;32m~\\anaconda3\\lib\\site-packages\\scipy\\optimize\\_nonlin.py\u001b[0m in \u001b[0;36mbroyden1\u001b[1;34m(F, xin, iter, alpha, reduction_method, max_rank, verbose, maxiter, f_tol, f_rtol, x_tol, x_rtol, tol_norm, line_search, callback, **kw)\u001b[0m\n",
      "\u001b[1;32m~\\anaconda3\\lib\\site-packages\\scipy\\optimize\\_nonlin.py\u001b[0m in \u001b[0;36mnonlin_solve\u001b[1;34m(F, x0, jacobian, iter, verbose, maxiter, f_tol, f_rtol, x_tol, x_rtol, tol_norm, line_search, callback, full_output, raise_exception)\u001b[0m\n\u001b[0;32m    210\u001b[0m         \u001b[1;31m# Line search, or Newton step\u001b[0m\u001b[1;33m\u001b[0m\u001b[1;33m\u001b[0m\u001b[0m\n\u001b[0;32m    211\u001b[0m         \u001b[1;32mif\u001b[0m \u001b[0mline_search\u001b[0m\u001b[1;33m:\u001b[0m\u001b[1;33m\u001b[0m\u001b[1;33m\u001b[0m\u001b[0m\n\u001b[1;32m--> 212\u001b[1;33m             s, x, Fx, Fx_norm_new = _nonlin_line_search(func, x, Fx, dx,\n\u001b[0m\u001b[0;32m    213\u001b[0m                                                         line_search)\n\u001b[0;32m    214\u001b[0m         \u001b[1;32melse\u001b[0m\u001b[1;33m:\u001b[0m\u001b[1;33m\u001b[0m\u001b[1;33m\u001b[0m\u001b[0m\n",
      "\u001b[1;32m~\\anaconda3\\lib\\site-packages\\scipy\\optimize\\_nonlin.py\u001b[0m in \u001b[0;36m_nonlin_line_search\u001b[1;34m(func, x, Fx, dx, search_type, rdiff, smin)\u001b[0m\n\u001b[0;32m    289\u001b[0m                                              xtol=1e-2, amin=smin)\n\u001b[0;32m    290\u001b[0m     \u001b[1;32melif\u001b[0m \u001b[0msearch_type\u001b[0m \u001b[1;33m==\u001b[0m \u001b[1;34m'armijo'\u001b[0m\u001b[1;33m:\u001b[0m\u001b[1;33m\u001b[0m\u001b[1;33m\u001b[0m\u001b[0m\n\u001b[1;32m--> 291\u001b[1;33m         s, phi1 = scalar_search_armijo(phi, tmp_phi[0], -tmp_phi[0],\n\u001b[0m\u001b[0;32m    292\u001b[0m                                        amin=smin)\n\u001b[0;32m    293\u001b[0m \u001b[1;33m\u001b[0m\u001b[0m\n",
      "\u001b[1;32m~\\anaconda3\\lib\\site-packages\\scipy\\optimize\\_linesearch.py\u001b[0m in \u001b[0;36mscalar_search_armijo\u001b[1;34m(phi, phi0, derphi0, c1, alpha0, amin)\u001b[0m\n\u001b[0;32m    680\u001b[0m \u001b[1;33m\u001b[0m\u001b[0m\n\u001b[0;32m    681\u001b[0m     \"\"\"\n\u001b[1;32m--> 682\u001b[1;33m     \u001b[0mphi_a0\u001b[0m \u001b[1;33m=\u001b[0m \u001b[0mphi\u001b[0m\u001b[1;33m(\u001b[0m\u001b[0malpha0\u001b[0m\u001b[1;33m)\u001b[0m\u001b[1;33m\u001b[0m\u001b[1;33m\u001b[0m\u001b[0m\n\u001b[0m\u001b[0;32m    683\u001b[0m     \u001b[1;32mif\u001b[0m \u001b[0mphi_a0\u001b[0m \u001b[1;33m<=\u001b[0m \u001b[0mphi0\u001b[0m \u001b[1;33m+\u001b[0m \u001b[0mc1\u001b[0m\u001b[1;33m*\u001b[0m\u001b[0malpha0\u001b[0m\u001b[1;33m*\u001b[0m\u001b[0mderphi0\u001b[0m\u001b[1;33m:\u001b[0m\u001b[1;33m\u001b[0m\u001b[1;33m\u001b[0m\u001b[0m\n\u001b[0;32m    684\u001b[0m         \u001b[1;32mreturn\u001b[0m \u001b[0malpha0\u001b[0m\u001b[1;33m,\u001b[0m \u001b[0mphi_a0\u001b[0m\u001b[1;33m\u001b[0m\u001b[1;33m\u001b[0m\u001b[0m\n",
      "\u001b[1;32m~\\anaconda3\\lib\\site-packages\\scipy\\optimize\\_nonlin.py\u001b[0m in \u001b[0;36mphi\u001b[1;34m(s, store)\u001b[0m\n\u001b[0;32m    273\u001b[0m             \u001b[1;32mreturn\u001b[0m \u001b[0mtmp_phi\u001b[0m\u001b[1;33m[\u001b[0m\u001b[1;36m0\u001b[0m\u001b[1;33m]\u001b[0m\u001b[1;33m\u001b[0m\u001b[1;33m\u001b[0m\u001b[0m\n\u001b[0;32m    274\u001b[0m         \u001b[0mxt\u001b[0m \u001b[1;33m=\u001b[0m \u001b[0mx\u001b[0m \u001b[1;33m+\u001b[0m \u001b[0ms\u001b[0m\u001b[1;33m*\u001b[0m\u001b[0mdx\u001b[0m\u001b[1;33m\u001b[0m\u001b[1;33m\u001b[0m\u001b[0m\n\u001b[1;32m--> 275\u001b[1;33m         \u001b[0mv\u001b[0m \u001b[1;33m=\u001b[0m \u001b[0mfunc\u001b[0m\u001b[1;33m(\u001b[0m\u001b[0mxt\u001b[0m\u001b[1;33m)\u001b[0m\u001b[1;33m\u001b[0m\u001b[1;33m\u001b[0m\u001b[0m\n\u001b[0m\u001b[0;32m    276\u001b[0m         \u001b[0mp\u001b[0m \u001b[1;33m=\u001b[0m \u001b[0m_safe_norm\u001b[0m\u001b[1;33m(\u001b[0m\u001b[0mv\u001b[0m\u001b[1;33m)\u001b[0m\u001b[1;33m**\u001b[0m\u001b[1;36m2\u001b[0m\u001b[1;33m\u001b[0m\u001b[1;33m\u001b[0m\u001b[0m\n\u001b[0;32m    277\u001b[0m         \u001b[1;32mif\u001b[0m \u001b[0mstore\u001b[0m\u001b[1;33m:\u001b[0m\u001b[1;33m\u001b[0m\u001b[1;33m\u001b[0m\u001b[0m\n",
      "\u001b[1;32m~\\anaconda3\\lib\\site-packages\\scipy\\optimize\\_nonlin.py\u001b[0m in \u001b[0;36m<lambda>\u001b[1;34m(z)\u001b[0m\n\u001b[0;32m    164\u001b[0m \u001b[1;33m\u001b[0m\u001b[0m\n\u001b[0;32m    165\u001b[0m     \u001b[0mx0\u001b[0m \u001b[1;33m=\u001b[0m \u001b[0m_as_inexact\u001b[0m\u001b[1;33m(\u001b[0m\u001b[0mx0\u001b[0m\u001b[1;33m)\u001b[0m\u001b[1;33m\u001b[0m\u001b[1;33m\u001b[0m\u001b[0m\n\u001b[1;32m--> 166\u001b[1;33m     \u001b[0mfunc\u001b[0m \u001b[1;33m=\u001b[0m \u001b[1;32mlambda\u001b[0m \u001b[0mz\u001b[0m\u001b[1;33m:\u001b[0m \u001b[0m_as_inexact\u001b[0m\u001b[1;33m(\u001b[0m\u001b[0mF\u001b[0m\u001b[1;33m(\u001b[0m\u001b[0m_array_like\u001b[0m\u001b[1;33m(\u001b[0m\u001b[0mz\u001b[0m\u001b[1;33m,\u001b[0m \u001b[0mx0\u001b[0m\u001b[1;33m)\u001b[0m\u001b[1;33m)\u001b[0m\u001b[1;33m)\u001b[0m\u001b[1;33m.\u001b[0m\u001b[0mflatten\u001b[0m\u001b[1;33m(\u001b[0m\u001b[1;33m)\u001b[0m\u001b[1;33m\u001b[0m\u001b[1;33m\u001b[0m\u001b[0m\n\u001b[0m\u001b[0;32m    167\u001b[0m     \u001b[0mx\u001b[0m \u001b[1;33m=\u001b[0m \u001b[0mx0\u001b[0m\u001b[1;33m.\u001b[0m\u001b[0mflatten\u001b[0m\u001b[1;33m(\u001b[0m\u001b[1;33m)\u001b[0m\u001b[1;33m\u001b[0m\u001b[1;33m\u001b[0m\u001b[0m\n\u001b[0;32m    168\u001b[0m \u001b[1;33m\u001b[0m\u001b[0m\n",
      "\u001b[1;32m~\\AppData\\Local\\Temp\\ipykernel_14772\\654840722.py\u001b[0m in \u001b[0;36mF\u001b[1;34m(x)\u001b[0m\n\u001b[0;32m      5\u001b[0m \u001b[1;33m\u001b[0m\u001b[0m\n\u001b[0;32m      6\u001b[0m \u001b[1;32mdef\u001b[0m \u001b[0mF\u001b[0m\u001b[1;33m(\u001b[0m\u001b[0mx\u001b[0m\u001b[1;33m)\u001b[0m\u001b[1;33m:\u001b[0m\u001b[1;33m\u001b[0m\u001b[1;33m\u001b[0m\u001b[0m\n\u001b[1;32m----> 7\u001b[1;33m     return [(price1 - HestonModel0(x[0],x[1],x[2],T,90, X0, V0, rho, r)), \\\n\u001b[0m\u001b[0;32m      8\u001b[0m             \u001b[1;33m(\u001b[0m\u001b[0mprice2\u001b[0m \u001b[1;33m-\u001b[0m \u001b[0mHestonModel0\u001b[0m\u001b[1;33m(\u001b[0m\u001b[0mx\u001b[0m\u001b[1;33m[\u001b[0m\u001b[1;36m0\u001b[0m\u001b[1;33m]\u001b[0m\u001b[1;33m,\u001b[0m\u001b[0mx\u001b[0m\u001b[1;33m[\u001b[0m\u001b[1;36m1\u001b[0m\u001b[1;33m]\u001b[0m\u001b[1;33m,\u001b[0m\u001b[0mx\u001b[0m\u001b[1;33m[\u001b[0m\u001b[1;36m2\u001b[0m\u001b[1;33m]\u001b[0m\u001b[1;33m,\u001b[0m\u001b[0mT\u001b[0m\u001b[1;33m,\u001b[0m\u001b[1;36m105\u001b[0m\u001b[1;33m,\u001b[0m \u001b[0mX0\u001b[0m\u001b[1;33m,\u001b[0m \u001b[0mV0\u001b[0m\u001b[1;33m,\u001b[0m \u001b[0mrho\u001b[0m\u001b[1;33m,\u001b[0m \u001b[0mr\u001b[0m\u001b[1;33m)\u001b[0m\u001b[1;33m)\u001b[0m\u001b[1;33m,\u001b[0m\u001b[0;31m \u001b[0m\u001b[0;31m\\\u001b[0m\u001b[1;33m\u001b[0m\u001b[1;33m\u001b[0m\u001b[0m\n\u001b[0;32m      9\u001b[0m             (price3 - HestonModel0(x[0],x[1],x[2],T,110, X0, V0, rho, r))]\n",
      "\u001b[1;32m~\\AppData\\Local\\Temp\\ipykernel_14772\\1623619327.py\u001b[0m in \u001b[0;36mHestonModel0\u001b[1;34m(kappa, theta, lambd, T, K, X0, V0, rho, r)\u001b[0m\n\u001b[0;32m     19\u001b[0m         \u001b[1;31m# Compute characteristic function terms\u001b[0m\u001b[1;33m\u001b[0m\u001b[1;33m\u001b[0m\u001b[0m\n\u001b[0;32m     20\u001b[0m         \u001b[0md1\u001b[0m \u001b[1;33m=\u001b[0m \u001b[0mnp\u001b[0m\u001b[1;33m.\u001b[0m\u001b[0msqrt\u001b[0m\u001b[1;33m(\u001b[0m\u001b[1;33m(\u001b[0m\u001b[0ma1\u001b[0m \u001b[1;33m-\u001b[0m \u001b[0mkappa\u001b[0m\u001b[1;33m)\u001b[0m\u001b[1;33m**\u001b[0m\u001b[1;36m2\u001b[0m \u001b[1;33m+\u001b[0m \u001b[0mlambd\u001b[0m\u001b[1;33m**\u001b[0m\u001b[1;36m2\u001b[0m \u001b[1;33m*\u001b[0m \u001b[1;33m(\u001b[0m\u001b[0mu1\u001b[0m \u001b[1;33m*\u001b[0m \u001b[0mI\u001b[0m \u001b[1;33m+\u001b[0m \u001b[0mu1\u001b[0m\u001b[1;33m**\u001b[0m\u001b[1;36m2\u001b[0m\u001b[1;33m)\u001b[0m\u001b[1;33m)\u001b[0m\u001b[1;33m\u001b[0m\u001b[1;33m\u001b[0m\u001b[0m\n\u001b[1;32m---> 21\u001b[1;33m         \u001b[0md2\u001b[0m \u001b[1;33m=\u001b[0m \u001b[0mnp\u001b[0m\u001b[1;33m.\u001b[0m\u001b[0msqrt\u001b[0m\u001b[1;33m(\u001b[0m\u001b[1;33m(\u001b[0m\u001b[0ma2\u001b[0m \u001b[1;33m-\u001b[0m \u001b[0mkappa\u001b[0m\u001b[1;33m)\u001b[0m\u001b[1;33m**\u001b[0m\u001b[1;36m2\u001b[0m \u001b[1;33m+\u001b[0m \u001b[0mlambd\u001b[0m\u001b[1;33m**\u001b[0m\u001b[1;36m2\u001b[0m \u001b[1;33m*\u001b[0m \u001b[1;33m(\u001b[0m\u001b[0mu2\u001b[0m \u001b[1;33m*\u001b[0m \u001b[0mI\u001b[0m \u001b[1;33m+\u001b[0m \u001b[0mu2\u001b[0m\u001b[1;33m**\u001b[0m\u001b[1;36m2\u001b[0m\u001b[1;33m)\u001b[0m\u001b[1;33m)\u001b[0m\u001b[1;33m\u001b[0m\u001b[1;33m\u001b[0m\u001b[0m\n\u001b[0m\u001b[0;32m     22\u001b[0m \u001b[1;33m\u001b[0m\u001b[0m\n\u001b[0;32m     23\u001b[0m         \u001b[1;31m# Avoid division by zero and numerical overflows\u001b[0m\u001b[1;33m\u001b[0m\u001b[1;33m\u001b[0m\u001b[0m\n",
      "\u001b[1;31mKeyboardInterrupt\u001b[0m: "
     ]
    }
   ],
   "source": [
    "# example of calibration \n",
    "price1 = HestonModel0(kappa, theta, lambd, T, 90, X0, V0, rho, r)\n",
    "price2 = HestonModel0(kappa, theta, lambd, T, 105, X0, V0, rho, r)\n",
    "price3 = HestonModel0(kappa, theta, lambd, T, 110, X0, V0, rho, r)\n",
    "\n",
    "def F(x):\n",
    "    return [(price1 - HestonModel0(x[0],x[1],x[2],T,90, X0, V0, rho, r)), \\\n",
    "            (price2 - HestonModel0(x[0],x[1],x[2],T,105, X0, V0, rho, r)), \\\n",
    "            (price3 - HestonModel0(x[0],x[1],x[2],T,110, X0, V0, rho, r))]\n",
    "x = broyden1(F, [1.4,0.03,0.5], f_tol=1e-14)\n",
    "print(\"[kappa,theta,lambda] =\",x)"
   ]
  },
  {
   "cell_type": "code",
   "execution_count": 17,
   "id": "38614f7d",
   "metadata": {},
   "outputs": [],
   "source": [
    "def heston(kappa, theta, lambd, T, K, X0, V0, rho, r):\n",
    "    I = complex(0, 1)  # Define imaginary unit\n",
    "    P, umax, N = 0, 1000, 10000  # Initialize P and set numerical integration limits\n",
    "    du = umax / N  # Step size for numerical integration\n",
    "    \n",
    "    # Constants for characteristic function\n",
    "    aa = theta * kappa * T / lambd**2\n",
    "    bb = -2 * theta * kappa / lambd**2\n",
    "    \n",
    "    for i in range(1, N):\n",
    "        u2 = i * du  # Define integration variable u2\n",
    "        u1 = complex(u2, -1)  # Define shifted integration variable u1\n",
    "        \n",
    "        # Compute a1 and a2 based on model parameters\n",
    "        a1 = rho * lambd * u1 * I\n",
    "        a2 = rho * lambd * u2 * I\n",
    "        \n",
    "        # Compute characteristic function terms\n",
    "        d1 = np.sqrt((a1 - kappa)**2 + lambd**2 * (u1 * I + u1**2))\n",
    "        d2 = np.sqrt((a2 - kappa)**2 + lambd**2 * (u2 * I + u2**2))\n",
    "        \n",
    "        # Avoid division by zero and numerical overflows\n",
    "        g1_denom = kappa - a1 + d1\n",
    "        g2_denom = kappa - a2 + d2\n",
    "        g1 = np.where(g1_denom != 0, (kappa - a1 - d1) / g1_denom, 0)\n",
    "        g2 = np.where(g2_denom != 0, (kappa - a2 - d2) / g2_denom, 0)\n",
    "        \n",
    "        # Compute exponential terms\n",
    "        b1_exp = np.exp(-d1 * T)\n",
    "        b2_exp = np.exp(-d2 * T)\n",
    "        b1_denom = np.where(1 - g1 != 0, (1 - g1 * b1_exp) / (1 - g1), 1)\n",
    "        b2_denom = np.where(1 - g2 != 0, (1 - g2 * b2_exp) / (1 - g2), 1)\n",
    "        b1 = np.exp(u1 * I * (np.log(X0 / K) + r * T)) * b1_denom**bb\n",
    "        b2 = np.exp(u2 * I * (np.log(X0 / K) + r * T)) * b2_denom**bb\n",
    "        \n",
    "        # Compute characteristic functions phi1 and phi2, avoiding overflow\n",
    "        exp_term1 = np.exp(-d1 * T)\n",
    "        exp_term2 = np.exp(-d2 * T)\n",
    "        denom1 = np.where(1 - g1 * exp_term1 != 0, (1 - g1 * exp_term1), 1)\n",
    "        denom2 = np.where(1 - g2 * exp_term2 != 0, (1 - g2 * exp_term2), 1)\n",
    "        \n",
    "        term1 = V0 * (kappa - a1 - d1) * (1 - exp_term1) / (denom1 * lambd**2)\n",
    "        term2 = V0 * (kappa - a2 - d2) * (1 - exp_term2) / (denom2 * lambd**2)\n",
    "        \n",
    "        phi1 = b1 * np.exp(aa * (kappa - a1 - d1) + term1)\n",
    "        phi2 = b2 * np.exp(aa * (kappa - a2 - d2) + term2)\n",
    "        \n",
    "        # Compute integral sum\n",
    "        P += ((phi1 - phi2) / (u2 * I)) * du\n",
    "    \n",
    "    # Compute final option price\n",
    "    return K * np.real((X0 / K - np.exp(-r * T)) / 2 + P / np.pi)\n",
    "\n",
    "# Example usage (Ensure variables like X0, V0, rho, and r are defined before calling)\n"
   ]
  },
  {
   "cell_type": "code",
   "execution_count": 50,
   "id": "b080dae9",
   "metadata": {},
   "outputs": [
    {
     "name": "stdout",
     "output_type": "stream",
     "text": [
      "call =  12.356330803154563  put =  11.532784161579428\n"
     ]
    }
   ],
   "source": [
    "# Example of usage of heston()\n",
    "T,K=2,100\n",
    "call = heston(kappa, theta, lambd, T, K, X0, V0, rho, r)\n",
    "print(\"call = \",call, \" put = \", call-X0+K*np.exp(-r*T))"
   ]
  },
  {
   "cell_type": "code",
   "execution_count": 51,
   "id": "5206a67b",
   "metadata": {},
   "outputs": [
    {
     "ename": "OverflowError",
     "evalue": "(34, 'Result too large')",
     "output_type": "error",
     "traceback": [
      "\u001b[1;31m---------------------------------------------------------------------------\u001b[0m",
      "\u001b[1;31mOverflowError\u001b[0m                             Traceback (most recent call last)",
      "\u001b[1;32m~\\AppData\\Local\\Temp\\ipykernel_14772\\1021359743.py\u001b[0m in \u001b[0;36m<module>\u001b[1;34m\u001b[0m\n\u001b[0;32m      3\u001b[0m             \u001b[1;33m(\u001b[0m\u001b[0mprice2\u001b[0m \u001b[1;33m-\u001b[0m \u001b[0mheston\u001b[0m\u001b[1;33m(\u001b[0m\u001b[0mx\u001b[0m\u001b[1;33m[\u001b[0m\u001b[1;36m0\u001b[0m\u001b[1;33m]\u001b[0m\u001b[1;33m,\u001b[0m\u001b[0mx\u001b[0m\u001b[1;33m[\u001b[0m\u001b[1;36m1\u001b[0m\u001b[1;33m]\u001b[0m\u001b[1;33m,\u001b[0m\u001b[0mx\u001b[0m\u001b[1;33m[\u001b[0m\u001b[1;36m2\u001b[0m\u001b[1;33m]\u001b[0m\u001b[1;33m,\u001b[0m\u001b[0mT\u001b[0m\u001b[1;33m,\u001b[0m\u001b[1;36m105\u001b[0m\u001b[1;33m,\u001b[0m \u001b[0mX0\u001b[0m\u001b[1;33m,\u001b[0m \u001b[0mV0\u001b[0m\u001b[1;33m,\u001b[0m \u001b[0mrho\u001b[0m\u001b[1;33m,\u001b[0m \u001b[0mr\u001b[0m\u001b[1;33m)\u001b[0m\u001b[1;33m)\u001b[0m\u001b[1;33m,\u001b[0m\u001b[0;31m \u001b[0m\u001b[0;31m\\\u001b[0m\u001b[1;33m\u001b[0m\u001b[1;33m\u001b[0m\u001b[0m\n\u001b[0;32m      4\u001b[0m             (price3 - heston(x[0],x[1],x[2],T,110, X0, V0, rho, r))]\n\u001b[1;32m----> 5\u001b[1;33m \u001b[0mx\u001b[0m \u001b[1;33m=\u001b[0m \u001b[0mbroyden1\u001b[0m\u001b[1;33m(\u001b[0m\u001b[0mF\u001b[0m\u001b[1;33m,\u001b[0m \u001b[1;33m[\u001b[0m\u001b[1;36m1.4\u001b[0m\u001b[1;33m,\u001b[0m\u001b[1;36m0.03\u001b[0m\u001b[1;33m,\u001b[0m\u001b[1;36m0.5\u001b[0m\u001b[1;33m]\u001b[0m\u001b[1;33m,\u001b[0m \u001b[0mf_tol\u001b[0m\u001b[1;33m=\u001b[0m\u001b[1;36m1e-14\u001b[0m\u001b[1;33m)\u001b[0m\u001b[1;33m\u001b[0m\u001b[1;33m\u001b[0m\u001b[0m\n\u001b[0m\u001b[0;32m      6\u001b[0m \u001b[0mprint\u001b[0m\u001b[1;33m(\u001b[0m\u001b[1;34m\"[kappa,theta,lambda] =\"\u001b[0m\u001b[1;33m,\u001b[0m\u001b[0mx\u001b[0m\u001b[1;33m)\u001b[0m\u001b[1;33m\u001b[0m\u001b[1;33m\u001b[0m\u001b[0m\n",
      "\u001b[1;32m~\\anaconda3\\lib\\site-packages\\scipy\\optimize\\_nonlin.py\u001b[0m in \u001b[0;36mbroyden1\u001b[1;34m(F, xin, iter, alpha, reduction_method, max_rank, verbose, maxiter, f_tol, f_rtol, x_tol, x_rtol, tol_norm, line_search, callback, **kw)\u001b[0m\n",
      "\u001b[1;32m~\\anaconda3\\lib\\site-packages\\scipy\\optimize\\_nonlin.py\u001b[0m in \u001b[0;36mnonlin_solve\u001b[1;34m(F, x0, jacobian, iter, verbose, maxiter, f_tol, f_rtol, x_tol, x_rtol, tol_norm, line_search, callback, full_output, raise_exception)\u001b[0m\n\u001b[0;32m    210\u001b[0m         \u001b[1;31m# Line search, or Newton step\u001b[0m\u001b[1;33m\u001b[0m\u001b[1;33m\u001b[0m\u001b[0m\n\u001b[0;32m    211\u001b[0m         \u001b[1;32mif\u001b[0m \u001b[0mline_search\u001b[0m\u001b[1;33m:\u001b[0m\u001b[1;33m\u001b[0m\u001b[1;33m\u001b[0m\u001b[0m\n\u001b[1;32m--> 212\u001b[1;33m             s, x, Fx, Fx_norm_new = _nonlin_line_search(func, x, Fx, dx,\n\u001b[0m\u001b[0;32m    213\u001b[0m                                                         line_search)\n\u001b[0;32m    214\u001b[0m         \u001b[1;32melse\u001b[0m\u001b[1;33m:\u001b[0m\u001b[1;33m\u001b[0m\u001b[1;33m\u001b[0m\u001b[0m\n",
      "\u001b[1;32m~\\anaconda3\\lib\\site-packages\\scipy\\optimize\\_nonlin.py\u001b[0m in \u001b[0;36m_nonlin_line_search\u001b[1;34m(func, x, Fx, dx, search_type, rdiff, smin)\u001b[0m\n\u001b[0;32m    289\u001b[0m                                              xtol=1e-2, amin=smin)\n\u001b[0;32m    290\u001b[0m     \u001b[1;32melif\u001b[0m \u001b[0msearch_type\u001b[0m \u001b[1;33m==\u001b[0m \u001b[1;34m'armijo'\u001b[0m\u001b[1;33m:\u001b[0m\u001b[1;33m\u001b[0m\u001b[1;33m\u001b[0m\u001b[0m\n\u001b[1;32m--> 291\u001b[1;33m         s, phi1 = scalar_search_armijo(phi, tmp_phi[0], -tmp_phi[0],\n\u001b[0m\u001b[0;32m    292\u001b[0m                                        amin=smin)\n\u001b[0;32m    293\u001b[0m \u001b[1;33m\u001b[0m\u001b[0m\n",
      "\u001b[1;32m~\\anaconda3\\lib\\site-packages\\scipy\\optimize\\_linesearch.py\u001b[0m in \u001b[0;36mscalar_search_armijo\u001b[1;34m(phi, phi0, derphi0, c1, alpha0, amin)\u001b[0m\n\u001b[0;32m    680\u001b[0m \u001b[1;33m\u001b[0m\u001b[0m\n\u001b[0;32m    681\u001b[0m     \"\"\"\n\u001b[1;32m--> 682\u001b[1;33m     \u001b[0mphi_a0\u001b[0m \u001b[1;33m=\u001b[0m \u001b[0mphi\u001b[0m\u001b[1;33m(\u001b[0m\u001b[0malpha0\u001b[0m\u001b[1;33m)\u001b[0m\u001b[1;33m\u001b[0m\u001b[1;33m\u001b[0m\u001b[0m\n\u001b[0m\u001b[0;32m    683\u001b[0m     \u001b[1;32mif\u001b[0m \u001b[0mphi_a0\u001b[0m \u001b[1;33m<=\u001b[0m \u001b[0mphi0\u001b[0m \u001b[1;33m+\u001b[0m \u001b[0mc1\u001b[0m\u001b[1;33m*\u001b[0m\u001b[0malpha0\u001b[0m\u001b[1;33m*\u001b[0m\u001b[0mderphi0\u001b[0m\u001b[1;33m:\u001b[0m\u001b[1;33m\u001b[0m\u001b[1;33m\u001b[0m\u001b[0m\n\u001b[0;32m    684\u001b[0m         \u001b[1;32mreturn\u001b[0m \u001b[0malpha0\u001b[0m\u001b[1;33m,\u001b[0m \u001b[0mphi_a0\u001b[0m\u001b[1;33m\u001b[0m\u001b[1;33m\u001b[0m\u001b[0m\n",
      "\u001b[1;32m~\\anaconda3\\lib\\site-packages\\scipy\\optimize\\_nonlin.py\u001b[0m in \u001b[0;36mphi\u001b[1;34m(s, store)\u001b[0m\n\u001b[0;32m    274\u001b[0m         \u001b[0mxt\u001b[0m \u001b[1;33m=\u001b[0m \u001b[0mx\u001b[0m \u001b[1;33m+\u001b[0m \u001b[0ms\u001b[0m\u001b[1;33m*\u001b[0m\u001b[0mdx\u001b[0m\u001b[1;33m\u001b[0m\u001b[1;33m\u001b[0m\u001b[0m\n\u001b[0;32m    275\u001b[0m         \u001b[0mv\u001b[0m \u001b[1;33m=\u001b[0m \u001b[0mfunc\u001b[0m\u001b[1;33m(\u001b[0m\u001b[0mxt\u001b[0m\u001b[1;33m)\u001b[0m\u001b[1;33m\u001b[0m\u001b[1;33m\u001b[0m\u001b[0m\n\u001b[1;32m--> 276\u001b[1;33m         \u001b[0mp\u001b[0m \u001b[1;33m=\u001b[0m \u001b[0m_safe_norm\u001b[0m\u001b[1;33m(\u001b[0m\u001b[0mv\u001b[0m\u001b[1;33m)\u001b[0m\u001b[1;33m**\u001b[0m\u001b[1;36m2\u001b[0m\u001b[1;33m\u001b[0m\u001b[1;33m\u001b[0m\u001b[0m\n\u001b[0m\u001b[0;32m    277\u001b[0m         \u001b[1;32mif\u001b[0m \u001b[0mstore\u001b[0m\u001b[1;33m:\u001b[0m\u001b[1;33m\u001b[0m\u001b[1;33m\u001b[0m\u001b[0m\n\u001b[0;32m    278\u001b[0m             \u001b[0mtmp_s\u001b[0m\u001b[1;33m[\u001b[0m\u001b[1;36m0\u001b[0m\u001b[1;33m]\u001b[0m \u001b[1;33m=\u001b[0m \u001b[0ms\u001b[0m\u001b[1;33m\u001b[0m\u001b[1;33m\u001b[0m\u001b[0m\n",
      "\u001b[1;31mOverflowError\u001b[0m: (34, 'Result too large')"
     ]
    }
   ],
   "source": [
    "def F(x):\n",
    "    return [(price1 - heston(x[0],x[1],x[2],T,90, X0, V0, rho, r)), \\\n",
    "            (price2 - heston(x[0],x[1],x[2],T,105, X0, V0, rho, r)), \\\n",
    "            (price3 - heston(x[0],x[1],x[2],T,110, X0, V0, rho, r))]\n",
    "x = broyden1(F, [1.4,0.03,0.5], f_tol=1e-14)\n",
    "print(\"[kappa,theta,lambda] =\",x)"
   ]
  },
  {
   "cell_type": "code",
   "execution_count": null,
   "id": "6afb2f89",
   "metadata": {},
   "outputs": [],
   "source": []
  },
  {
   "cell_type": "code",
   "execution_count": null,
   "id": "70219eeb",
   "metadata": {},
   "outputs": [],
   "source": []
  },
  {
   "cell_type": "code",
   "execution_count": null,
   "id": "c3c42989",
   "metadata": {},
   "outputs": [],
   "source": []
  },
  {
   "cell_type": "code",
   "execution_count": null,
   "id": "7959e801",
   "metadata": {},
   "outputs": [],
   "source": []
  }
 ],
 "metadata": {
  "kernelspec": {
   "display_name": "Python 3 (ipykernel)",
   "language": "python",
   "name": "python3"
  },
  "language_info": {
   "codemirror_mode": {
    "name": "ipython",
    "version": 3
   },
   "file_extension": ".py",
   "mimetype": "text/x-python",
   "name": "python",
   "nbconvert_exporter": "python",
   "pygments_lexer": "ipython3",
   "version": "3.9.13"
  }
 },
 "nbformat": 4,
 "nbformat_minor": 5
}
